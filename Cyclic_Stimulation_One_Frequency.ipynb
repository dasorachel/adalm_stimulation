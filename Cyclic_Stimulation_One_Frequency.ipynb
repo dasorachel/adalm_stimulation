{
 "cells": [
  {
   "cell_type": "markdown",
   "id": "26d3e548-9ad4-4815-8860-216db1e8dc87",
   "metadata": {},
   "source": [
    "## Initialization code\n",
    "Run these three cells after you plug the ADALM into your computer"
   ]
  },
  {
   "cell_type": "code",
   "execution_count": null,
   "id": "bfca35cf-a67b-4175-b75c-b48656f37d53",
   "metadata": {},
   "outputs": [],
   "source": [
    "# import libraries needed for the code\n",
    "import pysmu\n",
    "from pysmu import Session, Mode, Device\n",
    "import time\n",
    "import pandas as pd\n",
    "import matplotlib.pyplot as plt\n",
    "from datetime import datetime\n",
    "import os\n",
    "import math"
   ]
  },
  {
   "cell_type": "code",
   "execution_count": null,
   "id": "412622b3-dcb2-4e2c-bcb4-c321451583af",
   "metadata": {},
   "outputs": [],
   "source": [
    "# initialize settings on the ADALM1000\n",
    "session = Session(queue_size = 100000)\n",
    "sample_rate = 100000\n",
    "session.configure(sample_rate = sample_rate)\n",
    "output = session.devices[0].channels['A'] #selects channel A as the one applying the stimulation\n",
    "dev = session.devices[0]"
   ]
  },
  {
   "cell_type": "markdown",
   "id": "4c1e853a-622b-44e1-9b3d-f71b3949759f",
   "metadata": {},
   "source": [
    "## Assign parameters for each channel\n",
    "Each section below is a different channel, add channels and edit parameters as needed\n",
    "Code will print out the parameters for each channel"
   ]
  },
  {
   "cell_type": "code",
   "execution_count": null,
   "id": "52138f15-c76c-4cfe-94af-2bae097f5903",
   "metadata": {},
   "outputs": [],
   "source": [
    "#Edit this code to change the channel parameters, where each value in the list corresponds to each channel\n",
    "num_of_channels = 6\n",
    "voltages = [5,5,5,5,5,5] #5V per channel\n",
    "stim_durations = [0.002,0.002,0.002,0.002,0.002,0.002] #2ms pulses\n",
    "number_of_stims = [3600,7200,14400,21600,28800,43200] #1hr-12hr total stimulation\n",
    "frequency = 1 #this code only allows for 1 frequency for all channels"
   ]
  },
  {
   "cell_type": "code",
   "execution_count": null,
   "id": "cc8ba2f1-e1de-464c-ac60-03f5d896fd9f",
   "metadata": {},
   "outputs": [],
   "source": [
    "#Dont edit this code, it will calculate channel settings for you\n",
    "#This code makes arbitrary waveforms for all channels\n",
    "stim_waveforms = []\n",
    "sample_number = []\n",
    "for c in range(num_of_channels):\n",
    "    waveform = [voltages[c]]*int((stim_durations[c]*100000))+[0]*500\n",
    "    stim_waveforms.append(waveform)\n",
    "    sample_number.append(len(waveform))\n",
    "\n",
    "#assign arrays to each pin output\n",
    "pin1 = [0,1,0,1,0,1,0,1,0,1,0,1,0,1,0,1]\n",
    "pin2 = [0,0,1,1,0,0,1,1,0,0,1,1,0,0,1,1]\n",
    "pin3 = [0,0,0,0,1,1,1,1,0,0,0,0,1,1,1,1]\n",
    "pin4 = [0,0,0,0,0,0,0,0,1,1,1,1,1,1,1,1]\n",
    "\n",
    "bool_lists = []\n",
    "for c in range(num_of_channels):\n",
    "    bool_lists.append([True]*number_of_stims[c]+[False]*(max(number_of_stims)-number_of_stims[c]))\n",
    "bool_lists_by_period = [list(group) for group in zip(*bool_lists)]\n",
    "bool_lists_by_period[10000:10002]"
   ]
  },
  {
   "cell_type": "markdown",
   "id": "b4ae57cc-a363-4ce0-83ca-435976b9daa4",
   "metadata": {},
   "source": [
    "## Test the connection of each device\n",
    "Running the code below will apply 100mV for 1ms to each device and record the average current see if your devices are shorted or disconnected "
   ]
  },
  {
   "cell_type": "code",
   "execution_count": null,
   "id": "c5c4cf30-02b4-45c3-867c-b6631e8aa33b",
   "metadata": {},
   "outputs": [],
   "source": [
    "#assign arrays to each pin output\n",
    "pin1 = [0,1,0,1,0,1,0,1,0,1,0,1,0,1,0,1]\n",
    "pin2 = [0,0,1,1,0,0,1,1,0,0,1,1,0,0,1,1]\n",
    "pin3 = [0,0,0,0,1,1,1,1,0,0,0,0,1,1,1,1]\n",
    "pin4 = [0,0,0,0,0,0,0,0,1,1,1,1,1,1,1,1]\n",
    "\n",
    "#Test for shorting\n",
    "n = 100\n",
    "for c in range(num_of_channels):\n",
    "    # set output of the mux to the channel that should be stimmed\n",
    "    D0 = 0x50 + pin1[c] # 0x50 = set to 0, 0x51 = set to 1\n",
    "    D1 = 0x50 + pin2[c]\n",
    "    D2 = 0x50 + pin3[c]\n",
    "    D3 = 0x50 + pin4[c]\n",
    "    dev.ctrl_transfer(0x40, D0, 4, 0, 0, 0, 100) # set PIO 0\n",
    "    dev.ctrl_transfer(0x40, D1, 5, 0, 0, 0, 100) # set PIO 1\n",
    "    dev.ctrl_transfer(0x40, D2, 6, 0, 0, 0, 100) # set PIO 2\n",
    "    dev.ctrl_transfer(0x40, D3, 7, 0, 0, 0, 100) # set PIO 3 \n",
    "    \n",
    "    output.mode = Mode.SVMI\n",
    "    output.constant(0.1)\n",
    "    recording = output.get_samples(n)\n",
    "    # print(recording)\n",
    "    currents = []\n",
    "    for number in range(n):\n",
    "        currents.append(recording[number][1])\n",
    "    avg_current = sum(currents)/len(currents)\n",
    "    print(avg_current)\n",
    "    if avg_current > 0.01:\n",
    "        print(f\"Channel {c+1} is shorted\")\n",
    "    elif avg_current < 0.0004:\n",
    "        print(f\"Channel {c+1} is disconnected\")\n",
    "    else:\n",
    "        print(f\"Channel {c+1} is connected\")\n",
    "    output.constant(0)\n",
    "    output.get_samples(10)"
   ]
  },
  {
   "cell_type": "markdown",
   "id": "d92b6db7-3310-41bb-85df-c40a9b2b8a61",
   "metadata": {},
   "source": [
    "## Stimulate the Devices\n",
    "This is the actual stimulation code, don't edit and don't run until you're sure everything is set up!"
   ]
  },
  {
   "cell_type": "code",
   "execution_count": null,
   "id": "260aae63-c61b-4528-9e94-b50c395ee8dc",
   "metadata": {},
   "outputs": [],
   "source": [
    "#make new folder for stim data in the same location as this code\n",
    "day = datetime.now().date()\n",
    "newpath = f'{day}' \n",
    "if not os.path.exists(newpath):\n",
    "    os.makedirs(newpath)\n",
    "\n",
    "\n",
    "#start the stimulation\n",
    "for s in range(max(number_of_stims)): #set total number of stimulations\n",
    "    time_stimulating = 0\n",
    "    bool_for_period = bool_lists_by_period[s]\n",
    "    #cycle through channels\n",
    "    for c in range(num_of_channels):\n",
    "        #determine if the channel should be stimulated at this time  \n",
    "        if bool_for_period[c]==True:\n",
    "            start_time = time.time()\n",
    "            \n",
    "            # set output of the mux to the channel that should be stimmed\n",
    "            D0 = 0x50 + pin1[c] # 0x50 = set to 0, 0x51 = set to 1\n",
    "            D1 = 0x50 + pin2[c]\n",
    "            D2 = 0x50 + pin3[c]\n",
    "            D3 = 0x50 + pin4[c]\n",
    "            dev.ctrl_transfer(0x40, D0, 4, 0, 0, 0, 100) # set PIO 0\n",
    "            dev.ctrl_transfer(0x40, D1, 5, 0, 0, 0, 100) # set PIO 1\n",
    "            dev.ctrl_transfer(0x40, D2, 6, 0, 0, 0, 100) # set PIO 2\n",
    "            dev.ctrl_transfer(0x40, D3, 7, 0, 0, 0, 100) # set PIO 3 \n",
    "\n",
    "            #stimulate channel with voltage pulses\n",
    "            output.mode = Mode.SVMI\n",
    "            output.arbitrary(stim_waveforms[c],cyclic=True)\n",
    "            data = output.get_samples(sample_number[c])\n",
    "\n",
    "            if s%(3600/(2*frequency))==0: #record every 30 mins\n",
    "                print(f\"Recording Ch{c+1}\")\n",
    "                file = \"Recording_Ch{}\".format(c+1)\n",
    "                now = datetime.now()\n",
    "                now_formatted = now.strftime(\"%Y_%m_%d__%H_%M_%S\")\n",
    "                V = []\n",
    "                A = []\n",
    "                for i in range(int(sample_number[c])):\n",
    "                    V.append(data[i][0])\n",
    "                    A.append(data[i][1])\n",
    "                df = pd.DataFrame({\"V\" : V, \"A\": A})\n",
    "                df.to_csv(f\"{day}/ch{c+1}_{now_formatted}.csv\")\n",
    "            time_stimulating += time.time()-start_time\n",
    "    time.sleep((1/frequency)-time_stimulating)"
   ]
  },
  {
   "cell_type": "code",
   "execution_count": null,
   "id": "37b00e69-de02-4b29-a698-2764fe6aef7c",
   "metadata": {},
   "outputs": [],
   "source": []
  }
 ],
 "metadata": {
  "kernelspec": {
   "display_name": "Python 3 (ipykernel)",
   "language": "python",
   "name": "python3"
  },
  "language_info": {
   "codemirror_mode": {
    "name": "ipython",
    "version": 3
   },
   "file_extension": ".py",
   "mimetype": "text/x-python",
   "name": "python",
   "nbconvert_exporter": "python",
   "pygments_lexer": "ipython3",
   "version": "3.10.15"
  }
 },
 "nbformat": 4,
 "nbformat_minor": 5
}
