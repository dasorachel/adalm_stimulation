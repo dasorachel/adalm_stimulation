{
 "cells": [
  {
   "cell_type": "markdown",
   "id": "26d3e548-9ad4-4815-8860-216db1e8dc87",
   "metadata": {},
   "source": [
    "## Initialization code\n",
    "Run these three cells after you plug the ADALM into your computer"
   ]
  },
  {
   "cell_type": "code",
   "execution_count": null,
   "id": "bfca35cf-a67b-4175-b75c-b48656f37d53",
   "metadata": {},
   "outputs": [],
   "source": [
    "# import libraries needed for the code\n",
    "import pysmu\n",
    "from pysmu import Session, Mode, Device\n",
    "import time\n",
    "import pandas as pd\n",
    "import matplotlib.pyplot as plt\n",
    "from datetime import datetime\n",
    "import os\n",
    "import math"
   ]
  },
  {
   "cell_type": "code",
   "execution_count": null,
   "id": "412622b3-dcb2-4e2c-bcb4-c321451583af",
   "metadata": {},
   "outputs": [],
   "source": [
    "# initialize settings on the ADALM1000\n",
    "session = Session(queue_size = 100000)\n",
    "sample_rate = 100000\n",
    "session.configure(sample_rate = sample_rate)\n",
    "output = session.devices[0].channels['A'] #selects channel A as the one applying the stimulation\n",
    "dev = session.devices[0]"
   ]
  },
  {
   "cell_type": "markdown",
   "id": "4c1e853a-622b-44e1-9b3d-f71b3949759f",
   "metadata": {},
   "source": [
    "## Assign parameters for each channel\n",
    "Each section below is a different channel, add channels and edit parameters as needed\n",
    "Code will print out the parameters for each channel"
   ]
  },
  {
   "cell_type": "code",
   "execution_count": null,
   "id": "52138f15-c76c-4cfe-94af-2bae097f5903",
   "metadata": {},
   "outputs": [],
   "source": [
    "#Edit this code to change the channel parameters, where each value in the list corresponds to each channel\n",
    "num_of_channels = 6\n",
    "voltages = [5,5,5,5,5,5] #5V per channel\n",
    "stim_durations = [0.002,0.002,0.002,0.002,0.002,0.002] #2ms pulses\n",
    "number_of_stims = [3600,7200,14400,21600,28800,43200] #1hr-12hr total stimulation\n",
    "frequency = 1 #this code only allows for 1 frequency for all channels"
   ]
  },
  {
   "cell_type": "code",
   "execution_count": null,
   "id": "cc8ba2f1-e1de-464c-ac60-03f5d896fd9f",
   "metadata": {},
   "outputs": [],
   "source": [
    "#Dont edit this code, it will calculate channel settings for you\n",
    "#This code makes arbitrary waveforms for all channels\n",
    "stim_waveforms = []\n",
    "sample_number = []\n",
    "for c in range(num_of_channels):\n",
    "    waveform = [voltages[c]]*int((stim_durations[c]*100000))+[0]*500\n",
    "    stim_waveforms.append(waveform)\n",
    "    sample_number.append(len(waveform))\n",
    "\n",
    "#assign arrays to each pin output\n",
    "pin1 = [0,1,0,1,0,1,0,1,0,1,0,1,0,1,0,1]\n",
    "pin2 = [0,0,1,1,0,0,1,1,0,0,1,1,0,0,1,1]\n",
    "pin3 = [0,0,0,0,1,1,1,1,0,0,0,0,1,1,1,1]\n",
    "pin4 = [0,0,0,0,0,0,0,0,1,1,1,1,1,1,1,1]\n",
    "\n",
    "bool_lists = []\n",
    "for c in range(num_of_channels):\n",
    "    bool_lists.append([True]*number_of_stims[c]+[False]*(max(number_of_stims)-number_of_stims[c]))\n",
    "bool_lists_by_period = [list(group) for group in zip(*bool_lists)]\n",
    "bool_lists_by_period[10000:10002]"
   ]
  },
  {
   "cell_type": "markdown",
   "id": "b4ae57cc-a363-4ce0-83ca-435976b9daa4",
   "metadata": {},
   "source": [
    "## Test the connection of each device\n",
    "Running the code below will apply 100mV for 1ms to each device and record the average current see if your devices are shorted or disconnected "
   ]
  },
  {
   "cell_type": "code",
   "execution_count": null,
