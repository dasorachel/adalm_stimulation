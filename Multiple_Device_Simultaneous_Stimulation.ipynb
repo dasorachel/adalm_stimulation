{
 "cells": [
  {
   "cell_type": "code",
   "execution_count": null,
   "id": "e3e7264f-7e43-43d2-b5e1-003a32d597a4",
   "metadata": {},
   "outputs": [],
   "source": [
    "#Import needed libraries\n",
    "import pysmu\n",
    "from pysmu import Session, Mode, Device\n",
    "import time\n",
    "import pandas as pd\n",
    "import matplotlib.pyplot as plt\n",
    "from datetime import datetime\n",
    "from collections import defaultdict"
   ]
  },
  {
   "cell_type": "code",
   "execution_count": null,
   "id": "045f6572-76e3-4c7a-8210-a7365ce7ab6f",
   "metadata": {},
   "outputs": [],
   "source": [
    "#Initialize session and number devices\n",
    "session = Session(ignore_dataflow=True, queue_size = 100000)\n",
    "session.configure(sample_rate = 100000)\n",
    "\n",
    "if not session.devices:\n",
    "    print('Device not found, please connect device')\n",
    "    exit()\n",
    "    \n",
    "device_list = []\n",
    "for i, device in enumerate(session.devices):\n",
    "    device.set_led(i+1)\n",
    "    device_list.append(device)\n",
    "print(f\"{len(device_list)} device(s)\")"
   ]
  },
  {
   "cell_type": "code",
   "execution_count": null,
   "id": "ca04ef01-24f7-4e6b-8844-8523f7771977",
   "metadata": {},
   "outputs": [],
   "source": [
    "#Assign channels\n",
    "channel_list = []\n",
    "for device in device_list:\n",
    "    channel_list.append(device.channels['A'])\n",
    "    channel_list.append(device.channels['B'])\n",
    "print(f'{len(channel_list)} channels')\n",
    "# print(channel_list)"
   ]
  },
  {
   "cell_type": "code",
   "execution_count": null,
   "id": "98df0968-aacc-41c7-b96f-ed29dda0deb3",
   "metadata": {},
   "outputs": [],
   "source": [
    "#Set channel parameters, where each element in the list corresponds to a different channel\n",
    "voltages = [1,2,3,4,5,6] #V\n",
    "pulse_length = [1,2,5,10,20,50] #ms\n",
    "frequencies = [50,20,10,5,2,1] #Hz"
   ]
  },
  {
   "cell_type": "code",
   "execution_count": null,
   "id": "c1aa4a7d-5a0a-4e56-9bc8-aaa0913dc5a9",
   "metadata": {},
   "outputs": [],
   "source": [
    "#prime channels and stimulate \n",
    "for c, channel in enumerate(channel_list):\n",
    "    channel.mode = Mode.SVMI\n",
    "    channel.square(voltages[c], 0, 100000/frequencies[c], 0, pulse_length[c]/(1000/frequency[c]))\n",
    "\n",
    "session.start(0)\n",
    "\n",
    "time.sleep(60)\n",
    "\n",
    "session.end()"
   ]
  }
 ],
 "metadata": {
  "kernelspec": {
   "display_name": "Python 3 (ipykernel)",
   "language": "python",
   "name": "python3"
  },
  "language_info": {
   "codemirror_mode": {
    "name": "ipython",
    "version": 3
   },
   "file_extension": ".py",
   "mimetype": "text/x-python",
   "name": "python",
   "nbconvert_exporter": "python",
   "pygments_lexer": "ipython3",
   "version": "3.10.15"
  }
 },
 "nbformat": 4,
 "nbformat_minor": 5
}
