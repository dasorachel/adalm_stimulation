{
 "cells": [
  {
   "cell_type": "markdown",
   "id": "bd0a1bb7-eb62-4551-84e5-6f9af8300103",
   "metadata": {},
   "source": [
    "## Screening Code"
   ]
  },
  {
   "cell_type": "markdown",
   "id": "c5d95f8c-7867-4739-8f5a-effcae9fcbff",
   "metadata": {},
   "source": [
    "This code can only run one stimulation at a time but it will run and record every stimulation you run!"
   ]
  },
  {
   "cell_type": "markdown",
   "id": "d6898a7f-7826-4e10-89aa-351e00c1282e",
   "metadata": {},
   "source": [
    "Run this to import necessary libraries and reset the recording counter"
   ]
  },
  {
   "cell_type": "code",
   "execution_count": 1,
   "id": "5073ab0c-2a16-4eb2-9647-1477274641a1",
   "metadata": {},
   "outputs": [],
   "source": [
    "#import libraries\n",
    "import pysmu\n",
    "from pysmu import Session, Mode, Device\n",
    "import time\n",
    "import pandas as pd\n",
    "import matplotlib.pyplot as plt\n",
    "#initialize the session run count to keep recordings in order\n",
    "run = 7"
   ]
  },
  {
   "cell_type": "markdown",
   "id": "29b224cc-d1cf-4e6f-b63f-5592692b64c9",
   "metadata": {},
   "source": [
    "Run this to start the ADALM session. If something goes wrong and you need to re run this code, you will have to refresh your kernal before re-initializing the session\n",
    "From this point on in this session, only re run the code below this initialization step"
   ]
  },
  {
   "cell_type": "code",
   "execution_count": 2,
   "id": "4cafc54f-8460-473a-ba81-0db2863e347c",
   "metadata": {},
   "outputs": [],
   "source": [
    "# initialize ADALM settings\n",
    "session = Session(queue_size = 100000)\n",
    "sample_rate = 100000\n",
    "session.configure(sample_rate = sample_rate)"
   ]
  },
  {
   "cell_type": "markdown",
   "id": "6dec72ed-b0e4-41c4-8ac4-202742658967",
   "metadata": {},
   "source": [
    "Edit the code below to choose the parameters to apply for this stimulation\n",
    "\n",
    "It will calculate duty cycle for you automatically\n",
    "\n",
    "Don't change the labels of the paramters"
   ]
  },
  {
   "cell_type": "code",
   "execution_count": 6,
   "id": "898d7081-dfb6-4062-93c2-c30abc1d3121",
   "metadata": {},
   "outputs": [
    {
     "name": "stdout",
     "output_type": "stream",
     "text": [
      "0.5\n"
     ]
    }
   ],
   "source": [
    "# uncomment to set mode to current or voltage stimulation \n",
    "mode = \"current\"\n",
    "# mode = \"voltage\"\n",
    "\n",
    "# set parameters below\n",
    "magnitude = 0.05 #units: V for voltage stim or A for current stim\n",
    "frequency = 100 #unint: Hz\n",
    "\n",
    "pulse_width = 5 #unit: ms\n",
    "pulse_train_length = 5 #unit: seconds\n",
    "\n",
    "# dont change!!\n",
    "duty_cycle = pulse_width/(1000/frequency)\n",
    "print(duty_cycle)"
   ]
  },
  {
   "cell_type": "markdown",
   "id": "535a79ee-67b5-401c-9d18-24197a15358f",
   "metadata": {},
   "source": [
    "Choose the channel applying the stimulation, I always use channel A"
   ]
  },
  {
   "cell_type": "code",
   "execution_count": 7,
   "id": "fc453ca7-4397-46d0-ac49-3147199feff3",
   "metadata": {},
   "outputs": [],
   "source": [
    "#load stim conditions \n",
    "channel = session.devices[0].channels['A']"
   ]
  },
  {
   "cell_type": "markdown",
   "id": "04ab9d9f-169e-4e7d-8300-71f3a0a51ea7",
   "metadata": {},
   "source": [
    "This code runs the stimulation\n",
    "\n",
    "Every time it is run, it will apply the stimulation specificed above and will save the V and A traces to a file in the same folder as this code named according to the parameters of the stimulation"
   ]
  },
  {
   "cell_type": "code",
   "execution_count": 8,
   "id": "d3b9ac93-cf4f-4f87-b6ac-d394b75dc95f",
   "metadata": {},
   "outputs": [
    {
     "name": "stdout",
     "output_type": "stream",
     "text": [
      "stim\n"
     ]
    }
   ],
   "source": [
    "# set the channel to current or voltage stim\n",
    "if mode == \"current\":\n",
    "    channel.mode = Mode.SIMV\n",
    "elif mode == \"voltage\":\n",
    "    channel.mode = Mode.SVMI\n",
    "    \n",
    "#apply stimulation\n",
    "print(\"stim\")\n",
    "channel.square(magnitude,0,sample_rate/frequency,0,duty_cycle)\n",
    "recording = channel.get_samples(sample_rate*pulse_train_length)\n",
    "\n",
    "#save V and A recordings\n",
    "V = []\n",
    "A = []\n",
    "for i in range (sample_rate*pulse_train_length):\n",
    "    V.append(recording[i][0])\n",
    "    A.append(recording[i][1])\n",
    "df = pd.DataFrame({\"V\" : V, \"A\": A,})\n",
    "if mode == \"voltage\":\n",
    "    df.to_csv(f\"{magnitude}V_{frequency}Hz_{pulse_width}ms_{pulse_train_length}s_{run}.csv\")\n",
    "elif mode == \"current\":\n",
    "    df.to_csv(f\"{magnitude}A_{frequency}Hz_{pulse_width}ms_{pulse_train_length}s_{run}.csv\")\n",
    "run += 1\n",
    "time.sleep(1)\n"
   ]
  },
  {
   "cell_type": "code",
   "execution_count": null,
   "id": "67df88cd-e347-46f6-8e23-50d04ca272fa",
   "metadata": {},
   "outputs": [],
   "source": []
  },
  {
   "cell_type": "code",
   "execution_count": null,
   "id": "71a1301e-ce78-41ae-b5cb-1b7e77850e54",
   "metadata": {},
   "outputs": [],
   "source": []
  }
 ],
 "metadata": {
  "kernelspec": {
   "display_name": "Python 3 (ipykernel)",
   "language": "python",
   "name": "python3"
  },
  "language_info": {
   "codemirror_mode": {
    "name": "ipython",
    "version": 3
   },
   "file_extension": ".py",
   "mimetype": "text/x-python",
   "name": "python",
   "nbconvert_exporter": "python",
   "pygments_lexer": "ipython3",
   "version": "3.10.15"
  }
 },
 "nbformat": 4,
 "nbformat_minor": 5
}
