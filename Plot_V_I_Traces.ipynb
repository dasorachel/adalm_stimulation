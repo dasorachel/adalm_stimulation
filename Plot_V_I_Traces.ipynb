{
 "cells": [
  {
   "cell_type": "markdown",
   "id": "a1b7ce9c-7517-4ca8-a745-0e3553d8bfd6",
   "metadata": {},
   "source": [
    "## Code to Plot Voltage and Current Traces from Recordings\n",
    "This code should be run in the same location where the V/I recordings are located from a stimulation run"
   ]
  },
  {
   "cell_type": "code",
   "execution_count": null,
   "id": "f1873b75-8abe-4908-97ef-8361ce742c11",
   "metadata": {},
   "outputs": [],
   "source": [
    "# import libraries\n",
    "import pandas as pd\n",
    "import matplotlib.pyplot as plt\n",
    "import os\n",
    "%matplotlib inline"
   ]
  },
  {
   "cell_type": "code",
   "execution_count": null,
   "id": "3bebf4bc-b07b-46e4-8ce5-5b69979f73e9",
   "metadata": {},
   "outputs": [],
   "source": [
    "### EDIT THIS LIST ###\n",
    "# Include channel labels for all channels with saved data\n",
    "channel_list = ['ch1_', 'ch2_', 'ch3_', 'ch4_', 'ch5_', 'ch6_','ch7_','ch8_','ch9_','ch10_','ch11_','ch12_']"
   ]
  },
  {
   "cell_type": "code",
   "execution_count": null,
   "id": "7b3bd113-122a-44eb-8dc8-b174456df383",
   "metadata": {},
   "outputs": [],
   "source": [
    "# Looks through the folder where this code file is located and selects and orders the recording files\n",
    "directory = os.getcwd()\n",
    "data_sets = []\n",
    "file_names = []\n",
    "for channel in channel_list:\n",
    "    dict = {}\n",
    "    names = []\n",
    "    for root,dirs,files in os.walk(directory):\n",
    "        for file in sorted(files):\n",
    "           if file.endswith(\".csv\"):\n",
    "               if channel in file:\n",
    "                   f=open(file, 'r')\n",
    "                   data = pd.read_csv(f)\n",
    "                   file_name = file.split('.')[0]\n",
    "                   dict[file_name] = data\n",
    "                   f.close()\n",
    "                   names.append(file_name)\n",
    "    data_sets.append(dict)\n",
    "    file_names.append(names)"
   ]
  },
  {
   "cell_type": "code",
   "execution_count": null,
   "id": "ceae0487-c756-4d73-b40f-8d72315441da",
   "metadata": {},
   "outputs": [],
   "source": [
    "#lists file names that the code found, make sure this matches what you think it should\n",
    "file_names"
   ]
  },
  {
   "cell_type": "code",
   "execution_count": null,
   "id": "0001b682-3c74-474c-92f9-4c13e09f9286",
   "metadata": {},
   "outputs": [],
   "source": [
    "# plots the traces and labels each by channel\n",
    "for i, channel_data in enumerate(data_sets):\n",
    "    num_stims = len(channel_data)\n",
    "    rows = 2\n",
    "    cols = num_stims // rows + (num_stims % rows > 0)\n",
    "    \n",
    "    # Create grid of subplots\n",
    "    plt.figure(figsize=(6,cols*2))\n",
    "    plt.suptitle(f\"Channel {i+1}\", fontsize=18, y=1)\n",
    "    for n, file in enumerate(file_names[i]):\n",
    "        data = channel_data[file]\n",
    "    # add a new subplot iteratively\n",
    "        ax = plt.subplot(cols, rows, n+1)\n",
    "        # ax.set_xlim(0,100000)\n",
    "        # Current plot (left y-axis)\n",
    "        ax.set_xlabel('Time (0.1 ms)')\n",
    "        ax.set_ylabel('Current (A)', color='red')\n",
    "        ax.plot(data[\"A\"], color='red', label='Stim1 Current')\n",
    "        ax.tick_params(axis='y', labelcolor='red')\n",
    "        ax.set_ylim(-0.01,0.1)\n",
    "\n",
    "        # Voltage plot (right y-axis)\n",
    "        axt = ax.twinx()  \n",
    "        axt.set_ylabel('Voltage (V)', color='blue')\n",
    "        axt.plot(data[\"V\"], color='blue', label='Stim1 Voltage')\n",
    "        axt.tick_params(axis='y', labelcolor='blue')\n",
    "        axt.set_ylim(-6,6)\n",
    "    plt.tight_layout()\n",
    "    plt.show()"
   ]
  },
  {
   "cell_type": "code",
   "execution_count": null,
   "id": "da8a1399-4ac4-4d55-b163-fb05886dda31",
   "metadata": {},
   "outputs": [],
   "source": []
  }
 ],
 "metadata": {
  "kernelspec": {
   "display_name": "Python 3 (ipykernel)",
   "language": "python",
   "name": "python3"
  },
  "language_info": {
   "codemirror_mode": {
    "name": "ipython",
    "version": 3
   },
   "file_extension": ".py",
   "mimetype": "text/x-python",
   "name": "python",
   "nbconvert_exporter": "python",
   "pygments_lexer": "ipython3",
   "version": "3.10.15"
  }
 },
 "nbformat": 4,
 "nbformat_minor": 5
}
